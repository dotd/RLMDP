{
 "cells": [
  {
   "cell_type": "code",
   "execution_count": 31,
   "metadata": {},
   "outputs": [
    {
     "name": "stdout",
     "output_type": "stream",
     "text": [
      "orig:\n",
      "[('a', 1), ('b', 2), ('c', 3), ('d', 4)]\n",
      "transposed:\n",
      "[('a', 'b', 'c', 'd'), (1, 2, 3, 4)]\n"
     ]
    }
   ],
   "source": [
    "'''\n",
    "This is zip, *zip for transposing a matrix...\n",
    "'''\n",
    "orig = [('a', 1), ('b', 2), ('c', 3), ('d', 4)]\n",
    "print(\"orig:\")\n",
    "print(orig)\n",
    "vec = zip(*orig)\n",
    "print(\"transposed:\")\n",
    "print(list(vec))"
   ]
  },
  {
   "cell_type": "code",
   "execution_count": 32,
   "metadata": {},
   "outputs": [
    {
     "name": "stdout",
     "output_type": "stream",
     "text": [
      "The model:\n",
      "Sequential(\n",
      "  (0): Embedding(3, 2)\n",
      ")\n",
      "Variable containing:\n",
      " 0.5000  0.5000\n",
      " 0.0000  1.0000\n",
      " 1.0000  0.0000\n",
      "[torch.FloatTensor of size 3x2]\n",
      "\n"
     ]
    }
   ],
   "source": [
    "'''\n",
    "This is a working example of embedding layer. \n",
    "'''\n",
    "import torch\n",
    "import torch.nn as nn\n",
    "from torch.autograd import Variable\n",
    "import numpy as np\n",
    "N, D_in, H, D_out = 3, 2, 2, 1\n",
    "\n",
    "x = Variable(torch.LongTensor([2,0,1]))\n",
    "\n",
    "# Embedding layer\n",
    "# Taken from https://discuss.pytorch.org/t/can-we-use-pre-trained-word-embeddings-for-weight-initialization-in-nn-embedding/1222\n",
    "embed = nn.Embedding(N, D_in)\n",
    "base = np.array([[0,1],[1,0],[0.5,0.5]])\n",
    "embed.weight.data.copy_(torch.from_numpy(base))\n",
    "# make it constant \n",
    "embed.weight.requires_grad = False\n",
    "\n",
    "model = torch.nn.Sequential(\n",
    "    embed,\n",
    ")\n",
    "print(\"The model:\")\n",
    "print(model)\n",
    "\n",
    "# Continue, make the parameters constant\n",
    "# parameters = filter(lambda p: p.requires_grad, model.parameters())\n",
    "y_pred = model(x)\n",
    "print(y_pred)\n"
   ]
  },
  {
   "cell_type": "code",
   "execution_count": 14,
   "metadata": {},
   "outputs": [
    {
     "data": {
      "text/plain": [
       "Variable containing:\n",
       " 0\n",
       " 1\n",
       " 2\n",
       "[torch.IntTensor of size 3]"
      ]
     },
     "execution_count": 14,
     "metadata": {},
     "output_type": "execute_result"
    }
   ],
   "source": [
    "x"
   ]
  },
  {
   "cell_type": "code",
   "execution_count": null,
   "metadata": {},
   "outputs": [],
   "source": []
  }
 ],
 "metadata": {
  "kernelspec": {
   "display_name": "Python 3",
   "language": "python",
   "name": "python3"
  },
  "language_info": {
   "codemirror_mode": {
    "name": "ipython",
    "version": 3
   },
   "file_extension": ".py",
   "mimetype": "text/x-python",
   "name": "python",
   "nbconvert_exporter": "python",
   "pygments_lexer": "ipython3",
   "version": "3.6.4"
  }
 },
 "nbformat": 4,
 "nbformat_minor": 2
}
